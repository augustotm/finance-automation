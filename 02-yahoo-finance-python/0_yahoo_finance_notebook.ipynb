{
 "cells": [
  {
   "cell_type": "markdown",
   "id": "45a75f87",
   "metadata": {},
   "source": [
    "### Yahoo Finance Sandbox\n",
    "##### References:\n",
    "https://ranaroussi.github.io/yfinance/\n",
    "https://ranaroussi.github.io/yfinance/reference/api/yfinance.Ticker.html#yfinance.Ticker\n",
    "https://medium.com/@jonatasliberato/an%C3%A1lise-fundamentalista-com-python-parte-2-e71f6b8a4b1c\n",
    "https://www.geeksforgeeks.org/python/get-financial-data-from-yahoo-finance-with-python/\n",
    "https://stackoverflow.com/questions/61976027/scraping-yahoo-finance-at-regular-intervals"
   ]
  },
  {
   "cell_type": "code",
   "execution_count": 2,
   "id": "0f88b586",
   "metadata": {},
   "outputs": [],
   "source": [
    "import yfinance as yf\n",
    "import datetime"
   ]
  },
  {
   "cell_type": "markdown",
   "id": "6ac6d410",
   "metadata": {},
   "source": [
    "##### Ticker"
   ]
  },
  {
   "cell_type": "code",
   "execution_count": 3,
   "id": "4100202a",
   "metadata": {},
   "outputs": [
    {
     "name": "stdout",
     "output_type": "stream",
     "text": [
      "### Ticker variable type: \"<class 'yfinance.ticker.Ticker'>\"\n",
      "\n"
     ]
    }
   ],
   "source": [
    "### Variables\n",
    "# interval = \"10y\"\n",
    "interval = \"max\"\n",
    "ticker_list = [\"ALZR11.SA\"]\n",
    "# start_date = datetime.datetime(2019, 5, 31)\n",
    "# end_date = datetime.datetime(2021, 1, 30)\n",
    "# start_date = datetime.datetime(2019, 5, 31)\n",
    "# end_date =  datetime.date.today()\n",
    "end_date =  datetime.datetime.now()\n",
    "start_date = end_date - datetime.timedelta(days=365)\n",
    "\n",
    "### Import ticker data\n",
    "\n",
    "ticker_name = ticker_list[0]\n",
    "\n",
    "### Define ticker variable\n",
    "ticker = yf.Ticker(ticker_name)\n",
    "print( \"### Ticker variable type: \\\"{}\\\"\\n\".format(type(ticker)) )"
   ]
  },
  {
   "cell_type": "markdown",
   "id": "8920bc64",
   "metadata": {},
   "source": [
    "##### Info"
   ]
  },
  {
   "cell_type": "code",
   "execution_count": null,
   "id": "ff3e0123",
   "metadata": {},
   "outputs": [],
   "source": [
    "ticker_info = ticker.info\n",
    "print( \"Company long name: {}\".format(ticker_info['longName']) )\n",
    "print( \"Currency: {}\".format(ticker_info['currency']) )\n",
    "print( \"P/E (P/L): {:.2f}\".format(ticker_info['trailingPE']) )\n",
    "print( \"Dividend Rate: {}%\".format(ticker_info['dividendRate']) )\n",
    "print( \"Dividend Yield: {}%\".format(ticker_info['dividendYield']) )\n",
    "print( \"5 years avg Yield: {}%\".format(ticker_info['fiveYearAvgDividendYield']) )\n",
    "print( \"Beta: {}\".format(ticker_info['beta']) )"
   ]
  },
  {
   "cell_type": "markdown",
   "id": "09d8059f",
   "metadata": {},
   "source": [
    "##### History"
   ]
  },
  {
   "cell_type": "code",
   "execution_count": 9,
   "id": "3219412e",
   "metadata": {},
   "outputs": [
    {
     "name": "stdout",
     "output_type": "stream",
     "text": [
      "                                Open       High       Low      Close   Volume  \\\n",
      "Date                                                                            \n",
      "2024-09-01 00:00:00-03:00   9.863698   9.907647  9.524929   9.603670  3606550   \n",
      "2024-10-01 00:00:00-03:00   9.670957   9.681099  9.210874   9.358396  4839660   \n",
      "2024-11-01 00:00:00-03:00   9.420851   9.509061  9.198004   9.254644  3752960   \n",
      "2024-12-01 00:00:00-03:00   9.326697   9.569994  8.725940   9.427758  4525520   \n",
      "2025-01-01 00:00:00-03:00   9.506726   9.695445  9.152878   9.386889  2978460   \n",
      "2025-02-01 00:00:00-03:00   9.464049   9.473563  9.051163   9.294709  3240570   \n",
      "2025-03-01 00:00:00-03:00   9.371510   9.778216  9.304365   9.707234  2716150   \n",
      "2025-04-01 00:00:00-03:00   9.788777   9.833254  9.162234   9.472605  6486220   \n",
      "2025-05-01 00:00:00-03:00   9.552330   9.945265  9.550380   9.789261  3837834   \n",
      "2025-06-01 00:00:00-03:00   9.877988  10.113880  9.809185   9.936960  3311169   \n",
      "2025-07-01 00:00:00-03:00  10.017126  10.195473  9.799148   9.927954  3279570   \n",
      "2025-08-01 00:00:00-03:00  10.020000  10.260000  9.930000  10.080000  1709937   \n",
      "\n",
      "                           Dividends  Stock Splits  \n",
      "Date                                                \n",
      "2024-09-01 00:00:00-03:00   0.074571           0.0  \n",
      "2024-10-01 00:00:00-03:00   0.073200           0.0  \n",
      "2024-11-01 00:00:00-03:00   0.077500           0.0  \n",
      "2024-12-01 00:00:00-03:00   0.080550           0.0  \n",
      "2025-01-01 00:00:00-03:00   0.080550           0.0  \n",
      "2025-02-01 00:00:00-03:00   0.080550           0.0  \n",
      "2025-03-01 00:00:00-03:00   0.080550           0.0  \n",
      "2025-04-01 00:00:00-03:00   0.081550           0.0  \n",
      "2025-05-01 00:00:00-03:00   0.081550         100.0  \n",
      "2025-06-01 00:00:00-03:00   0.081550           0.0  \n",
      "2025-07-01 00:00:00-03:00   0.093700           0.0  \n",
      "2025-08-01 00:00:00-03:00   0.000000           0.0  \n"
     ]
    }
   ],
   "source": [
    "# ticker_history = ticker.history(period=interval)\n",
    "### Arguments:\n",
    "# period\n",
    "# interval (1m,2m,5m,15m,30m,60m,90m,1h,1d,5d,1wk,1mo,3mo)\n",
    "# auto_adjust\n",
    "ticker_history = ticker.history(\n",
    "    start=start_date,\n",
    "    end=end_date,\n",
    "    interval=\"1mo\",\n",
    "    auto_adjust=True,\n",
    "    actions=True\n",
    "    )\n",
    "print(ticker_history)"
   ]
  },
  {
   "cell_type": "markdown",
   "id": "389ca0d5",
   "metadata": {},
   "source": [
    "##### Dividends"
   ]
  },
  {
   "cell_type": "code",
   "execution_count": null,
   "id": "35e30a1b",
   "metadata": {},
   "outputs": [],
   "source": [
    "### Create dividends serie\n",
    "serie_dividendos = ticker.dividends\n",
    "print( \"### Ticker dividends type: \\\"{}\\\"\\n\".format(type(serie_dividendos)) )\n",
    "\n",
    "### Convert dividends serie to datafrae\n",
    "df_dividendos = serie_dividendos.to_frame().reset_index()\n",
    "print( \"### Ticker dividends dataframe type: \\\"{}\\\"\\n\".format(type(df_dividendos)) )\n",
    "\n",
    "### Add year, month and day columns\n",
    "df_dividendos['Year'] = df_dividendos['Date'].dt.year\n",
    "df_dividendos['Month'] = df_dividendos['Date'].dt.month\n",
    "df_dividendos['Day'] = df_dividendos['Date'].dt.day\n",
    "df_dividendos = df_dividendos[['Year','Month','Day','Date','Dividends']]\n",
    "\n",
    "df_dividendos_mo = df_dividendos.groupby(['Year', 'Month'])['Dividends'].sum().reset_index()"
   ]
  },
  {
   "cell_type": "code",
   "execution_count": null,
   "id": "8610687c",
   "metadata": {},
   "outputs": [],
   "source": [
    "yf.Ticker(\"VINO11.SA\").splits"
   ]
  },
  {
   "cell_type": "markdown",
   "id": "665a776b",
   "metadata": {},
   "source": [
    "##### Funds Data"
   ]
  },
  {
   "cell_type": "code",
   "execution_count": null,
   "id": "1b4d2714",
   "metadata": {},
   "outputs": [],
   "source": [
    "ticker_funds_name = \"XLV\"\n",
    "ticker_funds = yf.Ticker(ticker_funds_name)\n",
    "funds_data = ticker_funds.funds_data\n",
    "print(funds_data.top_holdings)\n",
    "print(\"\\n{:,.2%}\\n\".format(funds_data.top_holdings[\"Holding Percent\"].sum()))"
   ]
  }
 ],
 "metadata": {
  "kernelspec": {
   "display_name": "Python 3",
   "language": "python",
   "name": "python3"
  },
  "language_info": {
   "codemirror_mode": {
    "name": "ipython",
    "version": 3
   },
   "file_extension": ".py",
   "mimetype": "text/x-python",
   "name": "python",
   "nbconvert_exporter": "python",
   "pygments_lexer": "ipython3",
   "version": "3.13.7"
  }
 },
 "nbformat": 4,
 "nbformat_minor": 5
}
